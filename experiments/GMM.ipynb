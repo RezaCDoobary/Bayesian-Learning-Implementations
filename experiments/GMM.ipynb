{
 "cells": [
  {
   "cell_type": "code",
   "execution_count": 9,
   "metadata": {},
   "outputs": [],
   "source": [
    "import numpy as np\n",
    "import pandas as pd\n",
    "\n",
    "import matplotlib.pyplot as plt"
   ]
  },
  {
   "cell_type": "code",
   "execution_count": 10,
   "metadata": {},
   "outputs": [],
   "source": [
    "# generate data that requires some clustering"
   ]
  },
  {
   "cell_type": "code",
   "execution_count": 39,
   "metadata": {},
   "outputs": [
    {
     "data": {
      "text/plain": [
       "<matplotlib.collections.PathCollection at 0x115c7cac8>"
      ]
     },
     "execution_count": 39,
     "metadata": {},
     "output_type": "execute_result"
    },
    {
     "data": {
      "image/png": "[encoded data removed]",
      "text/plain": [
       "<Figure size 432x288 with 1 Axes>"
      ]
     },
     "metadata": {
      "needs_background": "light"
     },
     "output_type": "display_data"
    }
   ],
   "source": [
    "X1 = np.random.normal(0,1,(100,2))\n",
    "X2 = np.random.normal(4,1,(100,2))\n",
    "X3 = np.random.normal(7,1,(100,2))\n",
    "\n",
    "plt.scatter(X1.T[0],X1.T[1])\n",
    "plt.scatter(X2.T[0],X2.T[1])\n",
    "plt.scatter(X3.T[0],X3.T[1])"
   ]
  },
  {
   "cell_type": "code",
   "execution_count": 40,
   "metadata": {},
   "outputs": [],
   "source": [
    "X = np.concatenate([X1,X2,X3])\n",
    "np.random.shuffle(X)"
   ]
  },
  {
   "cell_type": "code",
   "execution_count": 41,
   "metadata": {},
   "outputs": [
    {
     "data": {
      "text/plain": [
       "<matplotlib.collections.PathCollection at 0x1160d2cc0>"
      ]
     },
     "execution_count": 41,
     "metadata": {},
     "output_type": "execute_result"
    },
    {
     "data": {
      "image/png": "[encoded data removed]",
      "text/plain": [
       "<Figure size 432x288 with 1 Axes>"
      ]
     },
     "metadata": {
      "needs_background": "light"
     },
     "output_type": "display_data"
    }
   ],
   "source": [
    "plt.scatter(X[:100].T[0],X[:100].T[1])"
   ]
  },
  {
   "cell_type": "code",
   "execution_count": 231,
   "metadata": {},
   "outputs": [],
   "source": [
    "# let set up K\n",
    "\n",
    "K = 3\n",
    "method = 'random' #'kmeans'\n",
    "\n",
    "N,p = X.shape\n",
    "\n",
    "\n",
    "# mu_k init\n",
    "if method == 'random':\n",
    "    mu_labels = np.random.randint(0,len(X),K)\n",
    "    mu_k = X[mu_labels]\n",
    "elif method == 'kmeans':\n",
    "    from sklearn.cluster import KMeans\n",
    "    km = KMeans(K)\n",
    "    km.fit(X)\n",
    "    mu_k = km.cluster_centers_\n",
    "    \n",
    "# variance init\n",
    "C = X - X.mean(0)\n",
    "var_k = np.array([np.matmul(C.T,C)/len(X) for i in range(K)])\n",
    "\n",
    "# prior pi_k\n",
    "pi_k = [1/K for i in range(K)]\n",
    "\n",
    "\n",
    "# E-step\n",
    "\n",
    "from scipy.stats import multivariate_normal as mn\n",
    "\n",
    "def ESTEP(X, pi_k, mu_k, var_k):\n",
    "    # E-step : find gamma\n",
    "    dist = np.array([pi_k[i]*mn.pdf(X,mu_k[i], var_k[i]) for i in range(K)])\n",
    "    GAMMA = dist/dist.sum(0)\n",
    "    GAMMA = GAMMA.T\n",
    "    return GAMMA\n",
    "\n",
    "def MSTEP(X, GAMMA):\n",
    "\n",
    "    # M-step\n",
    "\n",
    "    # M-step : find mu_k\n",
    "    mu_k = np.matmul(GAMMA.T,X)/GAMMA.sum(0).reshape(-1,1)\n",
    "\n",
    "    # M-step : find variances\n",
    "    res = []\n",
    "    for k in range(K):\n",
    "        diffs = (X - mu_k[k])\n",
    "        res.append(sum([np.outer(diffs[i]*GAMMA[:,k][i],diffs[i].T) for i in range(N)])/GAMMA[:,k].sum())\n",
    "    var_k = np.array(res)\n",
    "\n",
    "    # M-step : find coefficient\n",
    "    pi_k = GAMMA.sum(0)/N\n",
    "    \n",
    "    return pi_k, mu_k, var_k\n",
    "\n",
    "PI = []\n",
    "MU = []\n",
    "VAR = []\n",
    "\n",
    "for i in range(0,200):\n",
    "    GAMMA = ESTEP(X, pi_k, mu_k, var_k)\n",
    "    pi_k, mu_k, var_k = MSTEP(X, GAMMA)\n",
    "    PI.append(pi_k)\n",
    "    MU.append(mu_k)\n",
    "    VAR.append(var_k)"
   ]
  },
  {
   "cell_type": "code",
   "execution_count": 232,
   "metadata": {},
   "outputs": [
    {
     "data": {
      "text/plain": [
       "array([[-0.03152183,  0.08169992],\n",
       "       [ 4.21032901,  4.10916974],\n",
       "       [ 7.10543113,  6.84334376]])"
      ]
     },
     "execution_count": 232,
     "metadata": {},
     "output_type": "execute_result"
    }
   ],
   "source": [
    "mu_k"
   ]
  },
  {
   "cell_type": "code",
   "execution_count": 233,
   "metadata": {},
   "outputs": [
    {
     "data": {
      "text/plain": [
       "array([[[0.86548096, 0.15742157],\n",
       "        [0.15742157, 1.16405861]],\n",
       "\n",
       "       [[1.23275463, 0.37795188],\n",
       "        [0.37795188, 1.44082481]],\n",
       "\n",
       "       [[0.74123118, 0.0128833 ],\n",
       "        [0.0128833 , 0.82357747]]])"
      ]
     },
     "execution_count": 233,
     "metadata": {},
     "output_type": "execute_result"
    }
   ],
   "source": [
    "var_k"
   ]
  },
  {
   "cell_type": "code",
   "execution_count": 234,
   "metadata": {},
   "outputs": [
    {
     "data": {
      "text/plain": [
       "array([0.33037935, 0.36717665, 0.302444  ])"
      ]
     },
     "execution_count": 234,
     "metadata": {},
     "output_type": "execute_result"
    }
   ],
   "source": [
    "pi_k"
   ]
  },
  {
   "cell_type": "code",
   "execution_count": null,
   "metadata": {},
   "outputs": [],
   "source": []
  }
 ],
 "metadata": {
  "kernelspec": {
   "display_name": "Python 3.6.9 64-bit ('ml_env': conda)",
   "language": "python",
   "name": "python36964bitmlenvconda9f54039d931e4029adcffd4ea832f0f0"
  },
  "language_info": {
   "codemirror_mode": {
    "name": "ipython",
    "version": 3
   },
   "file_extension": ".py",
   "mimetype": "text/x-python",
   "name": "python",
   "nbconvert_exporter": "python",
   "pygments_lexer": "ipython3",
   "version": "3.6.9"
  }
 },
 "nbformat": 4,
 "nbformat_minor": 2
}
