{
 "cells": [
  {
   "cell_type": "markdown",
   "metadata": {},
   "source": [
    "# Gaussian Classification Processes"
   ]
  },
  {
   "cell_type": "markdown",
   "metadata": {},
   "source": [
    "In this notebook, various classification tasks are investigated using the GP classification method. "
   ]
  },
  {
   "cell_type": "code",
   "execution_count": 34,
   "metadata": {},
   "outputs": [],
   "source": [
    "from GaussianProcesses import *\n",
    "from Kernels import *\n",
    "\n",
    "\n",
    "import warnings\n",
    "warnings.simplefilter(\"error\")\n",
    "warnings.simplefilter(\"ignore\", DeprecationWarning)\n",
    "warnings.simplefilter(\"ignore\", FutureWarning)\n",
    "warnings.simplefilter(\"ignore\", RuntimeWarning)\n",
    "from tqdm import tqdm_notebook\n",
    "\n",
    "%matplotlib inline"
   ]
  },
  {
   "cell_type": "markdown",
   "metadata": {},
   "source": [
    "Here, very basic classification datasets are generated."
   ]
  },
  {
   "cell_type": "code",
   "execution_count": 35,
   "metadata": {},
   "outputs": [],
   "source": [
    "\n",
    "def generate():\n",
    "    X = np.random.normal(0,2,150) + np.random.normal(5,10,150)\n",
    "    y = []\n",
    "    for x in X:\n",
    "        if x < 0:\n",
    "            y.append(-1)\n",
    "        else:\n",
    "            y.append(+1)\n",
    "    y = np.array(y)\n",
    "    return X,y\n",
    "\n",
    "def gen2(size):\n",
    "    x = np.array([np.random.uniform(-1,1, size),np.random.normal(-1,1, size)])\n",
    "    X = x.T\n",
    "    y = np.array(np.mean(X,1)>0,int)\n",
    "    t = []\n",
    "    for i in range(0,len(y)):\n",
    "        if y[i] == 0:\n",
    "            t.append(-1)\n",
    "        else:\n",
    "            t.append(y[i])\n",
    "    y = np.array(t)\n",
    "    \n",
    "    return X,y"
   ]
  },
  {
   "cell_type": "code",
   "execution_count": 36,
   "metadata": {},
   "outputs": [
    {
     "name": "stdout",
     "output_type": "stream",
     "text": [
      "1.0\n",
      "1.0\n"
     ]
    }
   ],
   "source": [
    "X_train, y_train = generate()\n",
    "X_val, y_val = generate()\n",
    "\n",
    "kern = SquareExponential()\n",
    "class_prob = Sigmoid()\n",
    "model = GaussianClassification(kern,class_prob)\n",
    "\n",
    "X_train = X_train.reshape(-1,1)\n",
    "\n",
    "model.fit(X_train, y_train)\n",
    "y_mean, var = model.predict(X_train)\n",
    "y_pred = model.classify(y_mean)\n",
    "print(np.mean(np.array(y_pred) == np.array(y_train > 0,int)))\n",
    "\n",
    "X_val = X_val.reshape(-1,1)\n",
    "\n",
    "y_mean, var = model.predict(X_val)\n",
    "y_pred = model.classify(y_mean)\n",
    "print(np.mean(np.array(y_pred) == np.array(y_val > 0,int)))"
   ]
  },
  {
   "cell_type": "code",
   "execution_count": 37,
   "metadata": {},
   "outputs": [
    {
     "name": "stdout",
     "output_type": "stream",
     "text": [
      "0.98\n",
      "0.98\n"
     ]
    }
   ],
   "source": [
    "X_train, y_train = gen2(150)\n",
    "X_val, y_val = gen2(50)\n",
    "\n",
    "kern = SquareExponential()\n",
    "class_prob = Sigmoid()\n",
    "model = GaussianClassification(kern,class_prob)\n",
    "\n",
    "model.fit(X_train, y_train)\n",
    "y_mean, var = model.predict(X_train)\n",
    "y_pred = model.classify(y_mean)\n",
    "print(np.mean(np.array(y_pred) == np.array(y_train > 0,int)))\n",
    "\n",
    "y_mean, var = model.predict(X_val)\n",
    "y_pred = model.classify(y_mean)\n",
    "print(np.mean(np.array(y_pred) == np.array(y_val > 0,int)))"
   ]
  },
  {
   "cell_type": "markdown",
   "metadata": {},
   "source": [
    "## UCI Banknote dataset"
   ]
  },
  {
   "cell_type": "code",
   "execution_count": 38,
   "metadata": {},
   "outputs": [],
   "source": [
    "import pandas as pd\n",
    "\n",
    "url = 'https://archive.ics.uci.edu/ml/machine-learning-databases/00267/data_banknote_authentication.txt'\n",
    "data = pd.read_csv(url ,header = None)"
   ]
  },
  {
   "cell_type": "code",
   "execution_count": 39,
   "metadata": {},
   "outputs": [],
   "source": [
    "from sklearn.model_selection import train_test_split\n",
    "X = data[[0,1,2,3]].values\n",
    "y = data[4].values\n",
    "\n",
    "t = []\n",
    "for i in range(0,len(y)):\n",
    "    if y[i] == 0:\n",
    "        t.append(-1)\n",
    "    else:\n",
    "        t.append(y[i])\n",
    "y = np.array(t)\n",
    "    \n",
    "\n",
    "X_train, X_test, y_train, y_test = train_test_split(X, y, test_size=0.33, random_state=42)"
   ]
  },
  {
   "cell_type": "code",
   "execution_count": 40,
   "metadata": {},
   "outputs": [
    {
     "name": "stdout",
     "output_type": "stream",
     "text": [
      "1.0\n",
      "1.0\n"
     ]
    }
   ],
   "source": [
    "kern = SquareExponential()\n",
    "class_prob = Sigmoid()\n",
    "model = GaussianClassification(kern,class_prob)\n",
    "\n",
    "\n",
    "\n",
    "model.fit(X_train, y_train)\n",
    "y_mean, var = model.predict(X_train)\n",
    "y_pred = model.classify(y_mean)\n",
    "print(np.mean(np.array(y_pred) == np.array(y_train > 0,int)))\n",
    "\n",
    "#X_val = X_val.reshape(-1,1)\n",
    "\n",
    "y_mean, var = model.predict(X_test)\n",
    "y_pred = model.classify(y_mean)\n",
    "print(np.mean(np.array(y_pred) == np.array(y_test > 0,int)))"
   ]
  },
  {
   "cell_type": "code",
   "execution_count": null,
   "metadata": {},
   "outputs": [],
   "source": []
  }
 ],
 "metadata": {
  "kernelspec": {
   "display_name": "Python 3.6.9 64-bit ('ml_env': conda)",
   "language": "python",
   "name": "python36964bitmlenvconda9f54039d931e4029adcffd4ea832f0f0"
  },
  "language_info": {
   "codemirror_mode": {
    "name": "ipython",
    "version": 3
   },
   "file_extension": ".py",
   "mimetype": "text/x-python",
   "name": "python",
   "nbconvert_exporter": "python",
   "pygments_lexer": "ipython3",
   "version": "3.6.9"
  }
 },
 "nbformat": 4,
 "nbformat_minor": 2
}
