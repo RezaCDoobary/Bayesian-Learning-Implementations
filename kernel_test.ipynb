{
 "cells": [
  {
   "cell_type": "markdown",
   "metadata": {},
   "source": [
    "# Kernel optimisation test"
   ]
  },
  {
   "cell_type": "markdown",
   "metadata": {},
   "source": [
    "This notebook checks that the various kernels can have their respective hypereparameters optimised."
   ]
  },
  {
   "cell_type": "code",
   "execution_count": 1,
   "metadata": {},
   "outputs": [],
   "source": [
    "from Kernels import *\n",
    "\n",
    "import warnings\n",
    "warnings.simplefilter(\"error\")\n",
    "warnings.simplefilter(\"ignore\", DeprecationWarning)\n",
    "warnings.simplefilter(\"ignore\", FutureWarning)\n",
    "warnings.simplefilter(\"ignore\", RuntimeWarning)\n",
    "from tqdm import tqdm_notebook\n",
    "\n",
    "%matplotlib inline"
   ]
  },
  {
   "cell_type": "code",
   "execution_count": 2,
   "metadata": {},
   "outputs": [
    {
     "data": {
      "application/vnd.jupyter.widget-view+json": {
       "model_id": "2fd537fe3767499e8098645eebfbfa14",
       "version_major": 2,
       "version_minor": 0
      },
      "text/plain": [
       "HBox(children=(FloatProgress(value=0.0, max=1.0), HTML(value='')))"
      ]
     },
     "metadata": {},
     "output_type": "display_data"
    },
    {
     "name": "stdout",
     "output_type": "stream",
     "text": [
      "\n"
     ]
    }
   ],
   "source": [
    "for i in tqdm_notebook(range(0,1)):\n",
    "    sz = np.random.randint(100)\n",
    "    X_train = np.random.uniform(0,1,(sz)).reshape(-1,1)\n",
    "    Y_train = np.sin(X_train)\n",
    "    noise = 0.0001\n",
    "\n",
    "    kernel = SquareExponential()\n",
    "    kernel.fit(X_train, Y_train, noise)"
   ]
  },
  {
   "cell_type": "code",
   "execution_count": 3,
   "metadata": {},
   "outputs": [
    {
     "data": {
      "application/vnd.jupyter.widget-view+json": {
       "model_id": "b525a346fd07488bb359873d3eee5701",
       "version_major": 2,
       "version_minor": 0
      },
      "text/plain": [
       "HBox(children=(FloatProgress(value=0.0), HTML(value='')))"
      ]
     },
     "metadata": {},
     "output_type": "display_data"
    },
    {
     "name": "stdout",
     "output_type": "stream",
     "text": [
      "\n"
     ]
    }
   ],
   "source": [
    "for i in tqdm_notebook(range(0,100)):\n",
    "    sz = np.random.randint(100)\n",
    "    X_train = np.random.uniform(0,1,(sz)).reshape(-1,1)\n",
    "    Y_train = np.sin(X_train)\n",
    "    noise = 0.001\n",
    "\n",
    "    kernel = RationalQuadraticKernel()\n",
    "    kernel.fit(X_train, Y_train, noise)"
   ]
  },
  {
   "cell_type": "code",
   "execution_count": 4,
   "metadata": {},
   "outputs": [
    {
     "data": {
      "application/vnd.jupyter.widget-view+json": {
       "model_id": "11e4f8d3574f46d799987af76142e926",
       "version_major": 2,
       "version_minor": 0
      },
      "text/plain": [
       "HBox(children=(FloatProgress(value=0.0), HTML(value='')))"
      ]
     },
     "metadata": {},
     "output_type": "display_data"
    },
    {
     "name": "stdout",
     "output_type": "stream",
     "text": [
      "\n"
     ]
    }
   ],
   "source": [
    "for i in tqdm_notebook(range(0,100)):\n",
    "    sz = np.random.randint(100)\n",
    "    X_train = np.random.uniform(0,1,(sz)).reshape(-1,1)\n",
    "    Y_train = np.sin(X_train)\n",
    "    noise = 0.001\n",
    "\n",
    "    kernel = PeriodicKernel()\n",
    "    kernel.fit(X_train, Y_train, noise)"
   ]
  },
  {
   "cell_type": "code",
   "execution_count": 5,
   "metadata": {},
   "outputs": [],
   "source": [
    "#2d tests"
   ]
  },
  {
   "cell_type": "code",
   "execution_count": 6,
   "metadata": {},
   "outputs": [
    {
     "data": {
      "application/vnd.jupyter.widget-view+json": {
       "model_id": "8da1fbc3e6854eb1ae42468d62b48008",
       "version_major": 2,
       "version_minor": 0
      },
      "text/plain": [
       "HBox(children=(FloatProgress(value=0.0), HTML(value='')))"
      ]
     },
     "metadata": {},
     "output_type": "display_data"
    },
    {
     "name": "stdout",
     "output_type": "stream",
     "text": [
      "\n"
     ]
    }
   ],
   "source": [
    "for i in tqdm_notebook(range(0,100)):\n",
    "    sz = np.random.randint(100)\n",
    "    X_train = np.random.uniform(0,1,(sz,2)).reshape(-1,1)\n",
    "    Y_train = np.sin(X_train)\n",
    "    noise = 0.001\n",
    "\n",
    "    kernel = SquareExponential()\n",
    "    kernel.fit(X_train, Y_train, noise)"
   ]
  },
  {
   "cell_type": "code",
   "execution_count": 7,
   "metadata": {},
   "outputs": [
    {
     "data": {
      "application/vnd.jupyter.widget-view+json": {
       "model_id": "08f5e369144640a0be0d70ad020ab920",
       "version_major": 2,
       "version_minor": 0
      },
      "text/plain": [
       "HBox(children=(FloatProgress(value=0.0), HTML(value='')))"
      ]
     },
     "metadata": {},
     "output_type": "display_data"
    },
    {
     "name": "stdout",
     "output_type": "stream",
     "text": [
      "\n"
     ]
    }
   ],
   "source": [
    "for i in tqdm_notebook(range(0,100)):\n",
    "    sz = np.random.randint(100)\n",
    "    X_train = np.random.uniform(0,1,(sz,2)).reshape(-1,1)\n",
    "    Y_train = np.sin(X_train)\n",
    "    noise = 0.001\n",
    "\n",
    "    kernel = RationalQuadraticKernel()\n",
    "    kernel.fit(X_train, Y_train, noise)"
   ]
  },
  {
   "cell_type": "code",
   "execution_count": 8,
   "metadata": {},
   "outputs": [
    {
     "data": {
      "application/vnd.jupyter.widget-view+json": {
       "model_id": "07e8ff7ae31c41428737ad4cece8a461",
       "version_major": 2,
       "version_minor": 0
      },
      "text/plain": [
       "HBox(children=(FloatProgress(value=0.0), HTML(value='')))"
      ]
     },
     "metadata": {},
     "output_type": "display_data"
    },
    {
     "name": "stdout",
     "output_type": "stream",
     "text": [
      "\n"
     ]
    }
   ],
   "source": [
    "for i in tqdm_notebook(range(0,100)):\n",
    "    sz = np.random.randint(100)\n",
    "    X_train = np.random.uniform(0,1,(sz,2)).reshape(-1,1)\n",
    "    Y_train = np.sin(X_train)\n",
    "    noise = 0.001\n",
    "\n",
    "    kernel = PeriodicKernel()\n",
    "    kernel.fit(X_train, Y_train, noise)"
   ]
  },
  {
   "cell_type": "code",
   "execution_count": null,
   "metadata": {},
   "outputs": [],
   "source": []
  }
 ],
 "metadata": {
  "kernelspec": {
   "display_name": "Python 3.6.9 64-bit ('ml_env': conda)",
   "language": "python",
   "name": "python36964bitmlenvconda9f54039d931e4029adcffd4ea832f0f0"
  },
  "language_info": {
   "codemirror_mode": {
    "name": "ipython",
    "version": 3
   },
   "file_extension": ".py",
   "mimetype": "text/x-python",
   "name": "python",
   "nbconvert_exporter": "python",
   "pygments_lexer": "ipython3",
   "version": "3.6.9"
  }
 },
 "nbformat": 4,
 "nbformat_minor": 2
}
