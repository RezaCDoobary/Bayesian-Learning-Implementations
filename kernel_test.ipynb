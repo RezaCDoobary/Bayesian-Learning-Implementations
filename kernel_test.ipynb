{
 "cells": [
  {
   "cell_type": "code",
   "execution_count": 2,
   "metadata": {},
   "outputs": [],
   "source": [
    "from GaussianProcesses import *\n",
    "\n",
    "import warnings\n",
    "warnings.simplefilter(\"error\")\n",
    "warnings.simplefilter(\"ignore\", DeprecationWarning)\n",
    "warnings.simplefilter(\"ignore\", FutureWarning)\n",
    "warnings.simplefilter(\"ignore\", RuntimeWarning)\n",
    "from tqdm import tqdm_notebook\n",
    "\n",
    "%matplotlib inline"
   ]
  },
  {
   "cell_type": "code",
   "execution_count": 3,
   "metadata": {},
   "outputs": [
    {
     "data": {
      "application/vnd.jupyter.widget-view+json": {
       "model_id": "4173cb91a9d041e8ab5defd6cfa55d32",
       "version_major": 2,
       "version_minor": 0
      },
      "text/plain": [
       "HBox(children=(FloatProgress(value=0.0, max=1.0), HTML(value='')))"
      ]
     },
     "metadata": {},
     "output_type": "display_data"
    },
    {
     "name": "stdout",
     "output_type": "stream",
     "text": [
      "\n"
     ]
    }
   ],
   "source": [
    "for i in tqdm_notebook(range(0,1)):\n",
    "    sz = np.random.randint(100)\n",
    "    X_train = np.random.uniform(0,1,(sz)).reshape(-1,1)\n",
    "    Y_train = np.sin(X_train)\n",
    "    noise = 0.0001\n",
    "\n",
    "    kernel = SquareExponential()\n",
    "    kernel.fit(X_train, Y_train, noise)"
   ]
  },
  {
   "cell_type": "code",
   "execution_count": 4,
   "metadata": {},
   "outputs": [
    {
     "data": {
      "application/vnd.jupyter.widget-view+json": {
       "model_id": "d213a3a2adf04fc6a99c043690bd08b3",
       "version_major": 2,
       "version_minor": 0
      },
      "text/plain": [
       "HBox(children=(FloatProgress(value=0.0), HTML(value='')))"
      ]
     },
     "metadata": {},
     "output_type": "display_data"
    },
    {
     "name": "stdout",
     "output_type": "stream",
     "text": [
      "\n"
     ]
    }
   ],
   "source": [
    "for i in tqdm_notebook(range(0,100)):\n",
    "    sz = np.random.randint(100)\n",
    "    X_train = np.random.uniform(0,1,(sz)).reshape(-1,1)\n",
    "    Y_train = np.sin(X_train)\n",
    "    noise = 0.001\n",
    "\n",
    "    kernel = RationalQuadraticKernel()\n",
    "    kernel.fit(X_train, Y_train, noise)"
   ]
  },
  {
   "cell_type": "code",
   "execution_count": 5,
   "metadata": {},
   "outputs": [
    {
     "data": {
      "application/vnd.jupyter.widget-view+json": {
       "model_id": "f8d6e6de646e4b2096561071a7e473d6",
       "version_major": 2,
       "version_minor": 0
      },
      "text/plain": [
       "HBox(children=(FloatProgress(value=0.0), HTML(value='')))"
      ]
     },
     "metadata": {},
     "output_type": "display_data"
    },
    {
     "name": "stdout",
     "output_type": "stream",
     "text": [
      "\n"
     ]
    }
   ],
   "source": [
    "for i in tqdm_notebook(range(0,100)):\n",
    "    sz = np.random.randint(100)\n",
    "    X_train = np.random.uniform(0,1,(sz)).reshape(-1,1)\n",
    "    Y_train = np.sin(X_train)\n",
    "    noise = 0.001\n",
    "\n",
    "    kernel = PeriodicKernel()\n",
    "    kernel.fit(X_train, Y_train, noise)"
   ]
  },
  {
   "cell_type": "code",
   "execution_count": 6,
   "metadata": {},
   "outputs": [],
   "source": [
    "#2d tests"
   ]
  },
  {
   "cell_type": "code",
   "execution_count": 7,
   "metadata": {},
   "outputs": [
    {
     "data": {
      "application/vnd.jupyter.widget-view+json": {
       "model_id": "d1060949aa804952b83647f13e6c760c",
       "version_major": 2,
       "version_minor": 0
      },
      "text/plain": [
       "HBox(children=(FloatProgress(value=0.0), HTML(value='')))"
      ]
     },
     "metadata": {},
     "output_type": "display_data"
    },
    {
     "name": "stdout",
     "output_type": "stream",
     "text": [
      "\n"
     ]
    }
   ],
   "source": [
    "for i in tqdm_notebook(range(0,100)):\n",
    "    sz = np.random.randint(100)\n",
    "    X_train = np.random.uniform(0,1,(sz,2)).reshape(-1,1)\n",
    "    Y_train = np.sin(X_train)\n",
    "    noise = 0.001\n",
    "\n",
    "    kernel = SquareExponential()\n",
    "    kernel.fit(X_train, Y_train, noise)"
   ]
  },
  {
   "cell_type": "code",
   "execution_count": 8,
   "metadata": {},
   "outputs": [
    {
     "data": {
      "application/vnd.jupyter.widget-view+json": {
       "model_id": "e3f1c5f5570743ed8419852a201a11a0",
       "version_major": 2,
       "version_minor": 0
      },
      "text/plain": [
       "HBox(children=(FloatProgress(value=0.0), HTML(value='')))"
      ]
     },
     "metadata": {},
     "output_type": "display_data"
    },
    {
     "name": "stdout",
     "output_type": "stream",
     "text": [
      "\n"
     ]
    }
   ],
   "source": [
    "for i in tqdm_notebook(range(0,100)):\n",
    "    sz = np.random.randint(100)\n",
    "    X_train = np.random.uniform(0,1,(sz,2)).reshape(-1,1)\n",
    "    Y_train = np.sin(X_train)\n",
    "    noise = 0.001\n",
    "\n",
    "    kernel = RationalQuadraticKernel()\n",
    "    kernel.fit(X_train, Y_train, noise)"
   ]
  },
  {
   "cell_type": "code",
   "execution_count": 9,
   "metadata": {},
   "outputs": [
    {
     "data": {
      "application/vnd.jupyter.widget-view+json": {
       "model_id": "2cac672dcf324342a27b41301d0a1487",
       "version_major": 2,
       "version_minor": 0
      },
      "text/plain": [
       "HBox(children=(FloatProgress(value=0.0), HTML(value='')))"
      ]
     },
     "metadata": {},
     "output_type": "display_data"
    },
    {
     "name": "stdout",
     "output_type": "stream",
     "text": [
      "\n"
     ]
    }
   ],
   "source": [
    "for i in tqdm_notebook(range(0,100)):\n",
    "    sz = np.random.randint(100)\n",
    "    X_train = np.random.uniform(0,1,(sz,2)).reshape(-1,1)\n",
    "    Y_train = np.sin(X_train)\n",
    "    noise = 0.001\n",
    "\n",
    "    kernel = PeriodicKernel()\n",
    "    kernel.fit(X_train, Y_train, noise)"
   ]
  },
  {
   "cell_type": "code",
   "execution_count": null,
   "metadata": {},
   "outputs": [],
   "source": []
  }
 ],
 "metadata": {
  "kernelspec": {
   "display_name": "Python 3.6.9 64-bit ('ml_env': conda)",
   "language": "python",
   "name": "python36964bitmlenvconda9f54039d931e4029adcffd4ea832f0f0"
  },
  "language_info": {
   "codemirror_mode": {
    "name": "ipython",
    "version": 3
   },
   "file_extension": ".py",
   "mimetype": "text/x-python",
   "name": "python",
   "nbconvert_exporter": "python",
   "pygments_lexer": "ipython3",
   "version": "3.6.9"
  }
 },
 "nbformat": 4,
 "nbformat_minor": 2
}
